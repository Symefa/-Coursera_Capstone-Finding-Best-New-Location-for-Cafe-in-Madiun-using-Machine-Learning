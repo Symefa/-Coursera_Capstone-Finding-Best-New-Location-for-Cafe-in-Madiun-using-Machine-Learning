{
    "cells": [
        {
            "cell_type": "markdown",
            "metadata": {
                "collapsed": true
            },
            "source": "# Capstone Project - Madiun Cafe Location\n\n## Introduction / business problem\n\ni am looking to open a cafe in Madiun City, **the question is**, where is the best location for open new cafe? **The background of the problem** it is not worth setting up a cafe in the close promixity of existing ones. because the location of the new cafe has a significant impact on the expected returns.\n\n\n## Data\n\n**A description of the data**: the data used to solve this problem is geolocation data collected from [FourSquare](https://foursquare.com/). Data is a single tabel, containing location of the existing cafe. **Explanation** of the location data are column `(lat, lng)`, where `lat` stands for latitude and `lng` for longitude. **Example** of the data:\n\n   | Name                     | Shortname    | Latitude  | Londitude  |\n   | ------------------------ | ------------ | --------- | ---------- |\n   | Markas Kopi              | Coffee Shop  | -7.648215 | 111.530610 |\n   | Cafe Latt\u00e9               | Coffee Shop  | -7.635934 | 111.519315 |\n   | Coffee Toffee            | Coffee Shop  | -7.622158 | 111.536357 |\n\n\n**Data will be used**: by knowing the locations of already existing cafes, i will be using Kernel Density Estimation to determine the area of influence of the existing cafes, and recommend a new location which is not in the area of influence from existing cafe.\n\n"
        },
        {
            "cell_type": "code",
            "execution_count": null,
            "metadata": {},
            "outputs": [],
            "source": ""
        }
    ],
    "metadata": {
        "kernelspec": {
            "display_name": "Python 3.6",
            "language": "python",
            "name": "python3"
        },
        "language_info": {
            "codemirror_mode": {
                "name": "ipython",
                "version": 3
            },
            "file_extension": ".py",
            "mimetype": "text/x-python",
            "name": "python",
            "nbconvert_exporter": "python",
            "pygments_lexer": "ipython3",
            "version": "3.6.9"
        }
    },
    "nbformat": 4,
    "nbformat_minor": 1
}